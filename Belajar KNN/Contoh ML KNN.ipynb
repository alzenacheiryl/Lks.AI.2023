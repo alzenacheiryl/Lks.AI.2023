{
 "cells": [
  {
   "cell_type": "markdown",
   "metadata": {
    "button": false,
    "id": "YPEoHXDy6oDb",
    "new_sheet": false,
    "run_control": {
     "read_only": false
    }
   },
   "source": [
    "<a href=\"https://www.youtube.com/channel/UC80kXszNqAdWGTHFBcOKVdg\"><img src=\"https://lh3.googleusercontent.com/3BGYLiEKEvFZ0u6eLcDbKvad__jwIRs30D19_ttfwuMv2TrJ3qovD_Lb_HGF4QvSCeVYoE2Ay6Hkfx0wN0LFV1VvILg7XIdrqR7bE9EtnbF2SwYIueV1-B33aomEwjTmkAKDY4TYopVfaSbfsBWzwfOXpoKy_ASFSrjKt_2p_E35fyTkTbES2t9GUnZ25bMjAe_Y4xqfkw-8lRqK9zCYVwlcD_e2YXUlNXs8ubJCHwZp3MAdPL3kWzLMnuVAKsiORvjt_IgCVINNcDAqfak56arvmtg4MXpcbyKSeYK2A33p0jcFnOkgddq3KhABVNqb0PRM7inpysBXMJ7-u7Q__Y4LVGdFh_gTmuPcxHQZXqS10kU_K86bOQtgqY5m9DjJ5Ixd--sxiR4evRr4LnjDH-9L-6Rcu4EZI6LXMxlANCuFGuTLgIIqrq6qgIliinjuxyuwsX-cl-pE_Y3TBcZ5dum52_O8HtkuPo3NOQXD0Pg4ZfQV11CSkeD-82HaONupDREROrrgFOriOYljzSj4438GSaK4IUTfDjP1UFMKnA6QuZGhSA0noStBSeIwTitSUsHbspxGwYm05Of9UiP-vpvhB5zGDUWl2gLpPsXxz6SDNlDGsVFekX81jNOrFnDzj-Me98FgK4AAmW4Of6Z8LN1ZjBw1MdFwGabLN94tHUMg0sPf-UJFbw5XqN0spoltuB8YmAGSyIWLHoC4eVuARcEX=w1659-h300-no?authuser=0\" align=\"center\"></a>\n",
    "# <center>Supervised Learning: Klasifikasi K-Nearest Neighbors</center>"
   ]
  },
  {
   "cell_type": "markdown",
   "metadata": {
    "button": false,
    "id": "n4X3MrX-6oDg",
    "new_sheet": false,
    "run_control": {
     "read_only": false
    }
   },
   "source": [
    "Pada praktikum ini, kita akan mempraktekkan salah satu metode klasifikasi **K-Nearest Neighbors (KNN)**. KNN merupakan metode klasifikasi tersupervisi yang berbasis kedekatan antar-atribut. Penjelasan lebih mendalam mengenai metode KNN dapat disimak di video: https://youtu.be/EvnXXWIJjuk. "
   ]
  },
  {
   "cell_type": "markdown",
   "metadata": {
    "button": false,
    "id": "3Vb4AJ4x6oDi",
    "new_sheet": false,
    "run_control": {
     "read_only": false
    }
   },
   "source": [
    "**Pertama**, kita load dulu berbagai library yang diperlukan:\n",
    "1. Numpy\n",
    "2. Matplotlib untuk membuat grafik\n",
    "3. Pandas\n",
    "4. SKlearn\n",
    "5. Itertools"
   ]
  },
  {
   "cell_type": "code",
   "execution_count": 1,
   "metadata": {
    "button": false,
    "id": "yotb7aHm6oDi",
    "new_sheet": false,
    "run_control": {
     "read_only": false
    }
   },
   "outputs": [],
   "source": [
    "import itertools\n",
    "import numpy as np\n",
    "import matplotlib.pyplot as plt\n",
    "from matplotlib.ticker import NullFormatter\n",
    "import pandas as pd\n",
    "import numpy as np\n",
    "import matplotlib.ticker as ticker\n",
    "from sklearn import preprocessing\n",
    "%matplotlib inline"
   ]
  },
  {
   "cell_type": "markdown",
   "metadata": {
    "button": false,
    "id": "q5InUruF6oDj",
    "new_sheet": false,
    "run_control": {
     "read_only": false
    }
   },
   "source": [
    "### Dataset"
   ]
  },
  {
   "cell_type": "markdown",
   "metadata": {
    "button": false,
    "id": "yMwHOOXE6oDj",
    "new_sheet": false,
    "run_control": {
     "read_only": false
    }
   },
   "source": [
    "Pada praktikum ini, kita akan menggunakan dataset **Iris**. Dataset Iris merupakan dataset multivariate yang diperkenalkan oleh ahli statistika dan biologi inggris, Ronald Fisher, pada tahun 1936. Dataset bunga Iris ini sangat terkenal di dunia Machine Learning yang digunakan untuk ujicoba berbagai metode klasifikasi. \n",
    "\n",
    "Dataset ini terdiri dari 3 spesies Iris yaitu Iris Setosa, Iris Virginica, dan Iris Versicolor dan tiap spesiesnya memiliki 50 sampel. Dalam data Iris terdapat 4 atribut yang dapat mempengaruhi klasifikasi yaitu, sepal length (panjang kelopak), sepal width (lebar kelopak), petal length (panjang bunga), dan petal width (lebar bunga) dalam centimeter yang berbeda-beda."
   ]
  },
  {
   "cell_type": "markdown",
   "metadata": {
    "button": false,
    "id": "98Tn-UQj6oDj",
    "new_sheet": false,
    "run_control": {
     "read_only": false
    }
   },
   "source": [
    "Walaupun di Scikit sudah menyediakan dataset IRIS, namun kita akan coba unduh dataset dari repository eksternal. Kita akan unduh dari [kumpulan dataset](https://github.com/achmatim/data-mining/tree/main/Dataset) di laman https://github.com/achmatim/data-mining/blob/main/Dataset/iris.csv."
   ]
  },
  {
   "cell_type": "code",
   "execution_count": 2,
   "metadata": {
    "button": false,
    "colab": {
     "base_uri": "https://localhost:8080/"
    },
    "id": "xYzBZM5e6oDk",
    "new_sheet": false,
    "outputId": "b58392ab-5787-4898-a281-58aaa13a38e3",
    "run_control": {
     "read_only": false
    }
   },
   "outputs": [
    {
     "name": "stderr",
     "output_type": "stream",
     "text": [
      "'wget' is not recognized as an internal or external command,\n",
      "operable program or batch file.\n"
     ]
    }
   ],
   "source": [
    "!wget -O iris.csv https://raw.githubusercontent.com/achmatim/data-mining/main/Dataset/iris.csv"
   ]
  },
  {
   "cell_type": "markdown",
   "metadata": {
    "button": false,
    "id": "jc0turIy6oDk",
    "new_sheet": false,
    "run_control": {
     "read_only": false
    }
   },
   "source": [
    "### Load Dataset"
   ]
  },
  {
   "cell_type": "code",
   "execution_count": 3,
   "metadata": {
    "button": false,
    "colab": {
     "base_uri": "https://localhost:8080/",
     "height": 206
    },
    "id": "ZAzoqKmq6oDk",
    "new_sheet": false,
    "outputId": "02ae1fea-abce-4309-dd5a-b5dab210a36a",
    "run_control": {
     "read_only": false
    }
   },
   "outputs": [
    {
     "data": {
      "text/html": [
       "<div>\n",
       "<style scoped>\n",
       "    .dataframe tbody tr th:only-of-type {\n",
       "        vertical-align: middle;\n",
       "    }\n",
       "\n",
       "    .dataframe tbody tr th {\n",
       "        vertical-align: top;\n",
       "    }\n",
       "\n",
       "    .dataframe thead th {\n",
       "        text-align: right;\n",
       "    }\n",
       "</style>\n",
       "<table border=\"1\" class=\"dataframe\">\n",
       "  <thead>\n",
       "    <tr style=\"text-align: right;\">\n",
       "      <th></th>\n",
       "      <th>SepalLengthCm</th>\n",
       "      <th>SepalWidthCm</th>\n",
       "      <th>PetalLengthCm</th>\n",
       "      <th>PetalWidthCm</th>\n",
       "      <th>Label</th>\n",
       "    </tr>\n",
       "  </thead>\n",
       "  <tbody>\n",
       "    <tr>\n",
       "      <th>0</th>\n",
       "      <td>5.1</td>\n",
       "      <td>3.5</td>\n",
       "      <td>1.4</td>\n",
       "      <td>0.2</td>\n",
       "      <td>Iris-setosa</td>\n",
       "    </tr>\n",
       "    <tr>\n",
       "      <th>1</th>\n",
       "      <td>4.9</td>\n",
       "      <td>3.0</td>\n",
       "      <td>1.4</td>\n",
       "      <td>0.2</td>\n",
       "      <td>Iris-setosa</td>\n",
       "    </tr>\n",
       "    <tr>\n",
       "      <th>2</th>\n",
       "      <td>4.7</td>\n",
       "      <td>3.2</td>\n",
       "      <td>1.3</td>\n",
       "      <td>0.2</td>\n",
       "      <td>Iris-setosa</td>\n",
       "    </tr>\n",
       "    <tr>\n",
       "      <th>3</th>\n",
       "      <td>4.6</td>\n",
       "      <td>3.1</td>\n",
       "      <td>1.5</td>\n",
       "      <td>0.2</td>\n",
       "      <td>Iris-setosa</td>\n",
       "    </tr>\n",
       "    <tr>\n",
       "      <th>4</th>\n",
       "      <td>5.0</td>\n",
       "      <td>3.6</td>\n",
       "      <td>1.4</td>\n",
       "      <td>0.2</td>\n",
       "      <td>Iris-setosa</td>\n",
       "    </tr>\n",
       "  </tbody>\n",
       "</table>\n",
       "</div>"
      ],
      "text/plain": [
       "   SepalLengthCm  SepalWidthCm  PetalLengthCm  PetalWidthCm        Label\n",
       "0            5.1           3.5            1.4           0.2  Iris-setosa\n",
       "1            4.9           3.0            1.4           0.2  Iris-setosa\n",
       "2            4.7           3.2            1.3           0.2  Iris-setosa\n",
       "3            4.6           3.1            1.5           0.2  Iris-setosa\n",
       "4            5.0           3.6            1.4           0.2  Iris-setosa"
      ]
     },
     "execution_count": 3,
     "metadata": {},
     "output_type": "execute_result"
    }
   ],
   "source": [
    "df = pd.read_csv('iris.csv')\n",
    "df.head()"
   ]
  },
  {
   "cell_type": "markdown",
   "metadata": {
    "button": false,
    "id": "unxfGRjm6oDl",
    "new_sheet": false,
    "run_control": {
     "read_only": false
    }
   },
   "source": [
    "# Visualisasi dan Analisis Data \n",
    "\n"
   ]
  },
  {
   "cell_type": "markdown",
   "metadata": {
    "button": false,
    "id": "ePhkVE0N6oDl",
    "new_sheet": false,
    "run_control": {
     "read_only": false
    }
   },
   "source": [
    "#### Coba kita tampilkan jumlah data per label "
   ]
  },
  {
   "cell_type": "code",
   "execution_count": 4,
   "metadata": {
    "button": false,
    "colab": {
     "base_uri": "https://localhost:8080/"
    },
    "id": "NiQokJdm6oDl",
    "new_sheet": false,
    "outputId": "2a314d77-8850-4351-fac0-aa9a0d1e0c69",
    "run_control": {
     "read_only": false
    }
   },
   "outputs": [
    {
     "data": {
      "text/plain": [
       "Iris-setosa        50\n",
       "Iris-versicolor    50\n",
       "Iris-virginica     50\n",
       "Name: Label, dtype: int64"
      ]
     },
     "execution_count": 4,
     "metadata": {},
     "output_type": "execute_result"
    }
   ],
   "source": [
    "df['Label'].value_counts()"
   ]
  },
  {
   "cell_type": "markdown",
   "metadata": {
    "button": false,
    "id": "Uesn0nD06oDl",
    "new_sheet": false,
    "run_control": {
     "read_only": false
    }
   },
   "source": [
    "#### 50 Iris-setosa, 50 Iris-virginica, dan 50 Iris-versicolor\n"
   ]
  },
  {
   "cell_type": "markdown",
   "metadata": {
    "id": "bycaRNu16oDm"
   },
   "source": [
    "Kita juga dapat menampilkan histogram dari data, misalnya kolom **SepalLength**:"
   ]
  },
  {
   "cell_type": "code",
   "execution_count": 5,
   "metadata": {
    "colab": {
     "base_uri": "https://localhost:8080/",
     "height": 316
    },
    "id": "sX12Bjer6oDm",
    "outputId": "8b1aac8c-2cf7-4e0e-8ae8-6d491bd7f096"
   },
   "outputs": [
    {
     "data": {
      "text/plain": [
       "array([[<AxesSubplot:title={'center':'SepalLengthCm'}>]], dtype=object)"
      ]
     },
     "execution_count": 5,
     "metadata": {},
     "output_type": "execute_result"
    },
    {
     "data": {
      "image/png": "[encoded data removed]",
      "text/plain": [
       "<Figure size 432x288 with 1 Axes>"
      ]
     },
     "metadata": {
      "needs_background": "light"
     },
     "output_type": "display_data"
    }
   ],
   "source": [
    "df.hist(column='SepalLengthCm', bins=50)"
   ]
  },
  {
   "cell_type": "markdown",
   "metadata": {
    "button": false,
    "id": "wKm4pP4g6oDm",
    "new_sheet": false,
    "run_control": {
     "read_only": false
    }
   },
   "source": [
    "### Feature set"
   ]
  },
  {
   "cell_type": "markdown",
   "metadata": {
    "button": false,
    "id": "k7OYmxw-6oDm",
    "new_sheet": false,
    "run_control": {
     "read_only": false
    }
   },
   "source": [
    "Selanjutnya, kita format dataset, yaitu bentuk **feature sets** (kumpulan atribut), kita bentuk variabel **X**:"
   ]
  },
  {
   "cell_type": "code",
   "execution_count": 6,
   "metadata": {
    "colab": {
     "base_uri": "https://localhost:8080/"
    },
    "id": "lOqnIz1o6oDm",
    "outputId": "b4c294d5-c948-4bf5-8dbf-32f55d5e61b7"
   },
   "outputs": [
    {
     "data": {
      "text/plain": [
       "Index(['SepalLengthCm', 'SepalWidthCm', 'PetalLengthCm', 'PetalWidthCm',\n",
       "       'Label'],\n",
       "      dtype='object')"
      ]
     },
     "execution_count": 6,
     "metadata": {},
     "output_type": "execute_result"
    }
   ],
   "source": [
    "df.columns"
   ]
  },
  {
   "cell_type": "markdown",
   "metadata": {
    "id": "YMXan7yC6oDn"
   },
   "source": [
    "Untuk menggunakan library scikit-learn library, kita harus convert format data frame-nya Panda, ke array **Numpy** :"
   ]
  },
  {
   "cell_type": "code",
   "execution_count": 7,
   "metadata": {
    "button": false,
    "colab": {
     "base_uri": "https://localhost:8080/"
    },
    "id": "gIJ85v6c6oDn",
    "new_sheet": false,
    "outputId": "a065516e-2f44-485a-9806-c812b2006bdc",
    "run_control": {
     "read_only": false
    }
   },
   "outputs": [
    {
     "data": {
      "text/plain": [
       "array([[5.1, 3.5, 1.4, 0.2],\n",
       "       [4.9, 3. , 1.4, 0.2],\n",
       "       [4.7, 3.2, 1.3, 0.2],\n",
       "       [4.6, 3.1, 1.5, 0.2],\n",
       "       [5. , 3.6, 1.4, 0.2]])"
      ]
     },
     "execution_count": 7,
     "metadata": {},
     "output_type": "execute_result"
    }
   ],
   "source": [
    "X = df[['SepalLengthCm', 'SepalWidthCm', 'PetalLengthCm', 'PetalWidthCm']] .values  #.astype(float)\n",
    "X[0:5]\n"
   ]
  },
  {
   "cell_type": "markdown",
   "metadata": {
    "button": false,
    "id": "o6GmzQk_6oDn",
    "new_sheet": false,
    "run_control": {
     "read_only": false
    }
   },
   "source": [
    "Definisikan Labelnya juga (Y): "
   ]
  },
  {
   "cell_type": "code",
   "execution_count": 8,
   "metadata": {
    "button": false,
    "colab": {
     "base_uri": "https://localhost:8080/"
    },
    "id": "NFy8UEbh6oDn",
    "new_sheet": false,
    "outputId": "43fefee2-220f-4056-c753-0fc7210af638",
    "run_control": {
     "read_only": false
    }
   },
   "outputs": [
    {
     "data": {
      "text/plain": [
       "array(['Iris-setosa', 'Iris-setosa', 'Iris-setosa', 'Iris-setosa',\n",
       "       'Iris-setosa'], dtype=object)"
      ]
     },
     "execution_count": 8,
     "metadata": {},
     "output_type": "execute_result"
    }
   ],
   "source": [
    "y = df['Label'].values\n",
    "y[0:5]"
   ]
  },
  {
   "cell_type": "markdown",
   "metadata": {
    "button": false,
    "id": "Ib4a8t5o6oDn",
    "new_sheet": false,
    "run_control": {
     "read_only": false
    }
   },
   "source": [
    "## Normalisasi Data "
   ]
  },
  {
   "cell_type": "markdown",
   "metadata": {
    "button": false,
    "id": "97DCaG0I6oDo",
    "new_sheet": false,
    "run_control": {
     "read_only": false
    }
   },
   "source": [
    "K-NN merupakan metode yang didasarkan pada tingkat kedekatan antar-atribut. Oleh karena itu, sangat disarankan untuk melakukan normalisasi data agar perhitungan jarak menjadi lebih valid."
   ]
  },
  {
   "cell_type": "code",
   "execution_count": 9,
   "metadata": {
    "button": false,
    "colab": {
     "base_uri": "https://localhost:8080/"
    },
    "id": "9TgfRcun6oDo",
    "new_sheet": false,
    "outputId": "9caae4a3-7f13-42af-bc7f-aa91ca9f9dbd",
    "run_control": {
     "read_only": false
    }
   },
   "outputs": [
    {
     "data": {
      "text/plain": [
       "array([[-0.90068117,  1.03205722, -1.3412724 , -1.31297673],\n",
       "       [-1.14301691, -0.1249576 , -1.3412724 , -1.31297673],\n",
       "       [-1.38535265,  0.33784833, -1.39813811, -1.31297673],\n",
       "       [-1.50652052,  0.10644536, -1.2844067 , -1.31297673],\n",
       "       [-1.02184904,  1.26346019, -1.3412724 , -1.31297673]])"
      ]
     },
     "execution_count": 9,
     "metadata": {},
     "output_type": "execute_result"
    }
   ],
   "source": [
    "X = preprocessing.StandardScaler().fit(X).transform(X.astype(float))\n",
    "X[0:5]"
   ]
  },
  {
   "cell_type": "markdown",
   "metadata": {
    "button": false,
    "id": "E_krttcj6oDo",
    "new_sheet": false,
    "run_control": {
     "read_only": false
    }
   },
   "source": [
    "### Pembagian Data Training dan Testing  \n",
    "Untuk menghasilkan model yang baik, perlu dilakukan pengujian yang baik. Aturan umum yang berlaku adalah data training dan testing harus dipisahkan terlebih dahulu. Dengan kata lain tidak boleh menggunakan data yang sama untuk training dan testing.\n",
    "\n",
    "Pembagian dataset dapat dilakukan dengan mekanisme A atau B seperti tersaji pada gambar berikut:\n",
    "<img src=\"https://upload.wikimedia.org/wikipedia/commons/b/bb/ML_dataset_training_validation_test_sets.png\"/>\n",
    "\n",
    "Untuk mempermudah, kali ini kita pake skenario A, hanya membagi dataset menjadi data training dan testing. Untuk komposisi yang digunakan sebesar **80% data training dan 20% data testing**.\n"
   ]
  },
  {
   "cell_type": "code",
   "execution_count": 10,
   "metadata": {
    "button": false,
    "colab": {
     "base_uri": "https://localhost:8080/"
    },
    "id": "kOQinm8C6oDo",
    "new_sheet": false,
    "outputId": "bdee4cfa-72d1-4826-9898-9378d850de1b",
    "run_control": {
     "read_only": false
    }
   },
   "outputs": [
    {
     "name": "stdout",
     "output_type": "stream",
     "text": [
      "Train set: (120, 4) (120,)\n",
      "Test set: (30, 4) (30,)\n"
     ]
    }
   ],
   "source": [
    "from sklearn.model_selection import train_test_split\n",
    "X_train, X_test, y_train, y_test = train_test_split( X, y, test_size=0.2, random_state=4)\n",
    "print ('Train set:', X_train.shape,  y_train.shape)\n",
    "print ('Test set:', X_test.shape,  y_test.shape)"
   ]
  },
  {
   "cell_type": "markdown",
   "metadata": {
    "button": false,
    "id": "50gbRia76oDp",
    "new_sheet": false,
    "run_control": {
     "read_only": false
    }
   },
   "source": [
    "# Klasifikasi "
   ]
  },
  {
   "cell_type": "markdown",
   "metadata": {
    "button": false,
    "id": "LtGEP6hM6oDp",
    "new_sheet": false,
    "run_control": {
     "read_only": false
    }
   },
   "source": [
    "## K nearest neighbor (K-NN)"
   ]
  },
  {
   "cell_type": "markdown",
   "metadata": {
    "button": false,
    "id": "lfS1QsAh6oDp",
    "new_sheet": false,
    "run_control": {
     "read_only": false
    }
   },
   "source": [
    "#### Import library "
   ]
  },
  {
   "cell_type": "markdown",
   "metadata": {
    "button": false,
    "id": "VPrRvalq6oDp",
    "new_sheet": false,
    "run_control": {
     "read_only": false
    }
   },
   "source": [
    "Import classifier K-Nearest Neighbors"
   ]
  },
  {
   "cell_type": "code",
   "execution_count": 11,
   "metadata": {
    "button": false,
    "id": "nn2a8nuo6oDp",
    "new_sheet": false,
    "run_control": {
     "read_only": false
    }
   },
   "outputs": [],
   "source": [
    "from sklearn.neighbors import KNeighborsClassifier"
   ]
  },
  {
   "cell_type": "markdown",
   "metadata": {
    "button": false,
    "id": "_gvf1_8d6oDp",
    "new_sheet": false,
    "run_control": {
     "read_only": false
    }
   },
   "source": [
    "### Training\n",
    "\n",
    "Pertama, tentukan nilai k. Kita akan coba dengan nikai **k=4**:"
   ]
  },
  {
   "cell_type": "code",
   "execution_count": 12,
   "metadata": {
    "button": false,
    "colab": {
     "base_uri": "https://localhost:8080/"
    },
    "id": "0wCnQkJB6oDq",
    "new_sheet": false,
    "outputId": "f88b79e9-a11f-49e6-a6c7-3900078aaa7e",
    "run_control": {
     "read_only": false
    }
   },
   "outputs": [
    {
     "data": {
      "text/plain": [
       "KNeighborsClassifier(n_neighbors=4)"
      ]
     },
     "execution_count": 12,
     "metadata": {},
     "output_type": "execute_result"
    }
   ],
   "source": [
    "k = 4\n",
    "#Train Model and Predict  \n",
    "knn = KNeighborsClassifier(n_neighbors = k).fit(X_train,y_train)\n",
    "knn"
   ]
  },
  {
   "cell_type": "markdown",
   "metadata": {
    "button": false,
    "id": "T9b2MpOG6oDq",
    "new_sheet": false,
    "run_control": {
     "read_only": false
    }
   },
   "source": [
    "### Predicting\n",
    "Kita sudah dapat menggunakan model yang terbentuk untuk memprediksikan data"
   ]
  },
  {
   "cell_type": "code",
   "execution_count": 13,
   "metadata": {
    "button": false,
    "colab": {
     "base_uri": "https://localhost:8080/"
    },
    "id": "_M_EoXIh6oDq",
    "new_sheet": false,
    "outputId": "f0eed639-5ad0-486a-891e-31d636dd785f",
    "run_control": {
     "read_only": false
    }
   },
   "outputs": [
    {
     "data": {
      "text/plain": [
       "array(['Iris-virginica', 'Iris-setosa', 'Iris-virginica',\n",
       "       'Iris-virginica', 'Iris-virginica'], dtype=object)"
      ]
     },
     "execution_count": 13,
     "metadata": {},
     "output_type": "execute_result"
    }
   ],
   "source": [
    "yhat = knn.predict(X_test)\n",
    "yhat[0:5]"
   ]
  },
  {
   "cell_type": "markdown",
   "metadata": {
    "button": false,
    "id": "VIKpxsds6oDq",
    "new_sheet": false,
    "run_control": {
     "read_only": false
    }
   },
   "source": [
    "### Perhitungan Akurasi\n",
    "Pada klasifikasi multi-kelas, __nilai akurasi klasifikasi__ secara sederhana dapat dihitung dengan memperbandingkan kelas **hasil prediksi** algoritma dengan kelas sebenarnya / **actual class**."
   ]
  },
  {
   "cell_type": "code",
   "execution_count": 14,
   "metadata": {
    "colab": {
     "base_uri": "https://localhost:8080/"
    },
    "id": "MCsMucII6oDq",
    "outputId": "60b7cfce-1433-4861-d700-7ebc3fcafd67"
   },
   "outputs": [
    {
     "name": "stdout",
     "output_type": "stream",
     "text": [
      "Train set Accuracy:  0.9666666666666667\n",
      "Test set Accuracy:  0.9333333333333333\n"
     ]
    }
   ],
   "source": [
    "from sklearn import metrics\n",
    "print(\"Train set Accuracy: \", metrics.accuracy_score(y_train, knn.predict(X_train)))\n",
    "print(\"Test set Accuracy: \", metrics.accuracy_score(y_test, yhat))"
   ]
  },
  {
   "cell_type": "markdown",
   "metadata": {
    "id": "_qZR5Ncr6oDr"
   },
   "source": [
    "## Latihan\n",
    "Buatlah dan uji akurasi model KNN baru dengan nilai K=3 dan K=5!"
   ]
  },
  {
   "cell_type": "code",
   "execution_count": 15,
   "metadata": {
    "id": "iIX72vy86oDr"
   },
   "outputs": [
    {
     "data": {
      "text/plain": [
       "KNeighborsClassifier(n_neighbors=3)"
      ]
     },
     "execution_count": 15,
     "metadata": {},
     "output_type": "execute_result"
    }
   ],
   "source": [
    "#Training\n",
    "\n",
    "k = 3\n",
    "#Train Model and Predict  \n",
    "knn = KNeighborsClassifier(n_neighbors = k).fit(X_train,y_train)\n",
    "knn"
   ]
  },
  {
   "cell_type": "code",
   "execution_count": 16,
   "metadata": {},
   "outputs": [
    {
     "data": {
      "text/plain": [
       "array(['Iris-setosa', 'Iris-virginica', 'Iris-virginica',\n",
       "       'Iris-virginica'], dtype=object)"
      ]
     },
     "execution_count": 16,
     "metadata": {},
     "output_type": "execute_result"
    }
   ],
   "source": [
    "#Prediksi\n",
    "\n",
    "yhat = knn.predict(X_test)\n",
    "yhat[1:5]"
   ]
  },
  {
   "cell_type": "markdown",
   "metadata": {
    "button": false,
    "id": "l0Lt6mdp6oDr",
    "new_sheet": false,
    "run_control": {
     "read_only": false
    }
   },
   "source": [
    "#### Mencari Nilai K Terbaik\n",
    "Performa dari model KNN sangat bergantung dengan nilai K. Lalu bagaimana memilih nilai K yang terbaik? Jawabnya, kita harus lakukan pengujian. \n",
    "\n",
    "Kode berikut ini bertujuan untuk melakukan pengujian nilai k dari k=1 s.d k=10."
   ]
  },
  {
   "cell_type": "code",
   "execution_count": 17,
   "metadata": {
    "button": false,
    "colab": {
     "base_uri": "https://localhost:8080/"
    },
    "id": "f6vBeuKB6oDr",
    "new_sheet": false,
    "outputId": "f9b6f635-2b2c-446d-e30a-160132a31db4",
    "run_control": {
     "read_only": false
    }
   },
   "outputs": [
    {
     "data": {
      "text/plain": [
       "array([0.9       , 0.93333333, 0.9       , 0.93333333, 0.93333333,\n",
       "       0.93333333, 0.93333333, 0.93333333, 0.93333333])"
      ]
     },
     "execution_count": 17,
     "metadata": {},
     "output_type": "execute_result"
    }
   ],
   "source": [
    "Ks = 10\n",
    "mean_acc = np.zeros((Ks-1))\n",
    "std_acc = np.zeros((Ks-1))\n",
    "ConfustionMx = [];\n",
    "for n in range(1,Ks):\n",
    "    \n",
    "    #Train Model and Predict  \n",
    "    neigh = KNeighborsClassifier(n_neighbors = n).fit(X_train,y_train)\n",
    "    yhat=neigh.predict(X_test)\n",
    "    mean_acc[n-1] = metrics.accuracy_score(y_test, yhat)\n",
    "\n",
    "    \n",
    "    std_acc[n-1]=np.std(yhat==y_test)/np.sqrt(yhat.shape[0])\n",
    "\n",
    "mean_acc"
   ]
  },
  {
   "cell_type": "markdown",
   "metadata": {
    "button": false,
    "id": "lKvi-2cL6oDs",
    "new_sheet": false,
    "run_control": {
     "read_only": false
    }
   },
   "source": [
    "#### Lalu kita juga bisa menampilkan grafik / plot-nya "
   ]
  },
  {
   "cell_type": "code",
   "execution_count": 20,
   "metadata": {
    "button": false,
    "colab": {
     "base_uri": "https://localhost:8080/",
     "height": 297
    },
    "id": "gom531xD6oDs",
    "new_sheet": false,
    "outputId": "b8d80a51-257e-41ff-f9fc-bfb8efffb10d",
    "run_control": {
     "read_only": false
    }
   },
   "outputs": [
    {
     "data": {
      "image/png": "[encoded data removed]",
      "text/plain": [
       "<Figure size 432x288 with 1 Axes>"
      ]
     },
     "metadata": {
      "needs_background": "light"
     },
     "output_type": "display_data"
    }
   ],
   "source": [
    "plt.plot(range(1,Ks),mean_acc,'g')\n",
    "plt.fill_between(range(1,Ks),mean_acc - 1 * std_acc,mean_acc + 1 * std_acc, alpha=0.10)\n",
    "plt.legend(('Accuracy ', '+/- 3xstd'))\n",
    "plt.ylabel('Accuracy ')\n",
    "plt.xlabel('Number of Nabors (K)')\n",
    "plt.tight_layout()\n",
    "plt.show()"
   ]
  },
  {
   "cell_type": "code",
   "execution_count": 23,
   "metadata": {},
   "outputs": [
    {
     "data": {
      "image/png": "[encoded data removed]",
      "text/plain": [
       "<Figure size 720x432 with 1 Axes>"
      ]
     },
     "metadata": {
      "needs_background": "light"
     },
     "output_type": "display_data"
    }
   ],
   "source": [
    "fig, ax = plt.subplots(figsize=(10, 6))\n",
    "\n",
    "df_group = df.groupby('Label')\n",
    "colors = {'Iris-setosa':'red', 'Iris-versicolor':'yellow', 'Iris-virginica':'blue'}\n",
    "\n",
    "# create scatter plot\n",
    "for name, group in df_group:\n",
    "    group.plot(ax=ax, kind='scatter', x='SepalLengthCm', y='SepalWidthCm', label=name, color=colors[name], s=100)\n",
    "\n",
    "plt.title('Iris Dataset\\n', size=16)\n",
    "plt.xlabel('\\nSepal Length (cm)', size=14)\n",
    "plt.ylabel('\\nSepal Width (cm)', size=14)\n",
    "plt.show()\n"
   ]
  },
  {
   "cell_type": "code",
   "execution_count": 19,
   "metadata": {
    "button": false,
    "colab": {
     "base_uri": "https://localhost:8080/"
    },
    "id": "uX12PkWm6oDt",
    "new_sheet": false,
    "outputId": "b9974a29-d21f-488b-aaeb-0cf56e0442cf",
    "run_control": {
     "read_only": false
    }
   },
   "outputs": [
    {
     "name": "stdout",
     "output_type": "stream",
     "text": [
      "The best accuracy was with 0.9333333333333333 with k= 2\n"
     ]
    }
   ],
   "source": [
    "print( \"The best accuracy was with\", mean_acc.max(), \"with k=\", mean_acc.argmax()+1) "
   ]
  },
  {
   "cell_type": "markdown",
   "metadata": {
    "button": false,
    "id": "sEnAfZrp6oDt",
    "new_sheet": false,
    "run_control": {
     "read_only": false
    }
   },
   "source": [
    "## Ingin belajar lebih banyak lagi?\n",
    "\n",
    "Banyak video pembelajaran terkait Machine Learning yang disajikan di channel Youtube http://youtube.com/c/AchmadSolichin. Silahkan berkunjung dan jangan lupa **SUBSCRIBE** untuk membantu pengembangan channel dengan video-video berkualitas lainnya.\n",
    "\n",
    "### Terima kasih, selamat belajar!\n",
    "\n",
    "Lab ini dibuat oleh: <a href = \"http://achmatim.net\">Dr. Achmad Solichin</a> dengan acuan dari berbagai sumber.\n",
    "\n",
    "<hr>\n",
    "Copyright &copy; 2021 [Achmatim.Net](http://achmatim.net). This notebook and its source code are released under the terms of the CC License.​"
   ]
  },
  {
   "cell_type": "code",
   "execution_count": null,
   "metadata": {},
   "outputs": [],
   "source": []
  }
 ],
 "metadata": {
  "colab": {
   "name": "labs-ml-knn.ipynb",
   "provenance": []
  },
  "kernelspec": {
   "display_name": "Python 3 (ipykernel)",
   "language": "python",
   "name": "python3"
  },
  "language_info": {
   "codemirror_mode": {
    "name": "ipython",
    "version": 3
   },
   "file_extension": ".py",
   "mimetype": "text/x-python",
   "name": "python",
   "nbconvert_exporter": "python",
   "pygments_lexer": "ipython3",
   "version": "3.9.9"
  }
 },
 "nbformat": 4,
 "nbformat_minor": 1
}
