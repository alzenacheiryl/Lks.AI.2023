{
 "cells": [
  {
   "cell_type": "code",
   "execution_count": 1,
   "id": "6f24ba69",
   "metadata": {},
   "outputs": [],
   "source": [
    "import numpy as np\n",
    "import pandas as pd\n",
    "import matplotlib.pyplot as plt\n",
    "%matplotlib inline"
   ]
  },
  {
   "cell_type": "code",
   "execution_count": 8,
   "id": "3f2e792d",
   "metadata": {},
   "outputs": [
    {
     "data": {
      "text/html": [
       "<div>\n",
       "<style scoped>\n",
       "    .dataframe tbody tr th:only-of-type {\n",
       "        vertical-align: middle;\n",
       "    }\n",
       "\n",
       "    .dataframe tbody tr th {\n",
       "        vertical-align: top;\n",
       "    }\n",
       "\n",
       "    .dataframe thead th {\n",
       "        text-align: right;\n",
       "    }\n",
       "</style>\n",
       "<table border=\"1\" class=\"dataframe\">\n",
       "  <thead>\n",
       "    <tr style=\"text-align: right;\">\n",
       "      <th></th>\n",
       "      <th>age;sex;cp;trestbps;chol;restecg;thalach;exang;xhypo;oldpeak;slope;ca;thal;num</th>\n",
       "    </tr>\n",
       "  </thead>\n",
       "  <tbody>\n",
       "    <tr>\n",
       "      <th>0</th>\n",
       "      <td>40;1;2;140;289;0;172;0;0;0;?;?;?;negative</td>\n",
       "    </tr>\n",
       "    <tr>\n",
       "      <th>1</th>\n",
       "      <td>49;0;3;160;180;0;156;0;0;1;2;?;?;positive</td>\n",
       "    </tr>\n",
       "    <tr>\n",
       "      <th>2</th>\n",
       "      <td>37;1;2;130;283;1;98;0;0;0;?;?;?;negative</td>\n",
       "    </tr>\n",
       "    <tr>\n",
       "      <th>3</th>\n",
       "      <td>48;0;4;138;214;0;108;1;0;1.5;2;?;?;positive</td>\n",
       "    </tr>\n",
       "    <tr>\n",
       "      <th>4</th>\n",
       "      <td>54;1;3;150;?;0;122;0;1;0;?;?;?;negative</td>\n",
       "    </tr>\n",
       "    <tr>\n",
       "      <th>...</th>\n",
       "      <td>...</td>\n",
       "    </tr>\n",
       "    <tr>\n",
       "      <th>289</th>\n",
       "      <td>48;0;2;?;308;1;?;?;?;2;1;?;?;negative</td>\n",
       "    </tr>\n",
       "    <tr>\n",
       "      <th>290</th>\n",
       "      <td>36;1;2;120;166;0;180;0;0;0;?;?;?;negative</td>\n",
       "    </tr>\n",
       "    <tr>\n",
       "      <th>291</th>\n",
       "      <td>48;1;3;110;211;0;138;0;0;0;?;?;6;negative</td>\n",
       "    </tr>\n",
       "    <tr>\n",
       "      <th>292</th>\n",
       "      <td>47;0;2;140;257;0;135;0;0;1;1;?;?;negative</td>\n",
       "    </tr>\n",
       "    <tr>\n",
       "      <th>293</th>\n",
       "      <td>53;1;4;130;182;0;148;0;0;0;?;?;?;negative</td>\n",
       "    </tr>\n",
       "  </tbody>\n",
       "</table>\n",
       "<p>294 rows × 1 columns</p>\n",
       "</div>"
      ],
      "text/plain": [
       "    age;sex;cp;trestbps;chol;restecg;thalach;exang;xhypo;oldpeak;slope;ca;thal;num\n",
       "0            40;1;2;140;289;0;172;0;0;0;?;?;?;negative                            \n",
       "1            49;0;3;160;180;0;156;0;0;1;2;?;?;positive                            \n",
       "2             37;1;2;130;283;1;98;0;0;0;?;?;?;negative                            \n",
       "3          48;0;4;138;214;0;108;1;0;1.5;2;?;?;positive                            \n",
       "4              54;1;3;150;?;0;122;0;1;0;?;?;?;negative                            \n",
       "..                                                 ...                            \n",
       "289              48;0;2;?;308;1;?;?;?;2;1;?;?;negative                            \n",
       "290          36;1;2;120;166;0;180;0;0;0;?;?;?;negative                            \n",
       "291          48;1;3;110;211;0;138;0;0;0;?;?;6;negative                            \n",
       "292          47;0;2;140;257;0;135;0;0;1;1;?;?;negative                            \n",
       "293          53;1;4;130;182;0;148;0;0;0;?;?;?;negative                            \n",
       "\n",
       "[294 rows x 1 columns]"
      ]
     },
     "execution_count": 8,
     "metadata": {},
     "output_type": "execute_result"
    }
   ],
   "source": [
    "df = pd.read_csv('HD-Patients-Selected.csv')\n",
    "df"
   ]
  },
  {
   "cell_type": "code",
   "execution_count": 7,
   "id": "2d7b4a60",
   "metadata": {},
   "outputs": [
    {
     "data": {
      "text/plain": [
       "id          0\n",
       "ccf         0\n",
       "age         0\n",
       "sex         0\n",
       "painloc     0\n",
       "painexer    0\n",
       "relrest     0\n",
       "pncaden     0\n",
       "cp          0\n",
       "trestbps    0\n",
       "htn         0\n",
       "chol        0\n",
       "smoke       0\n",
       "cigs        0\n",
       "years       0\n",
       "fbs         0\n",
       "dm          0\n",
       "famhist     0\n",
       "restecg     0\n",
       "ekgmo       0\n",
       "ekgday      0\n",
       "ekgyr       0\n",
       "dig         0\n",
       "prop        0\n",
       "nitr        0\n",
       "pro         0\n",
       "diuretic    0\n",
       "proto       0\n",
       "thaldur     0\n",
       "thaltime    0\n",
       "met         0\n",
       "thalach     0\n",
       "thalrest    0\n",
       "tpeakbps    0\n",
       "tpeakbpd    0\n",
       "dummy       0\n",
       "dtype: int64"
      ]
     },
     "execution_count": 7,
     "metadata": {},
     "output_type": "execute_result"
    }
   ],
   "source": [
    "df.isna().sum().head(36)"
   ]
  }
 ],
 "metadata": {
  "kernelspec": {
   "display_name": "Python 3 (ipykernel)",
   "language": "python",
   "name": "python3"
  },
  "language_info": {
   "codemirror_mode": {
    "name": "ipython",
    "version": 3
   },
   "file_extension": ".py",
   "mimetype": "text/x-python",
   "name": "python",
   "nbconvert_exporter": "python",
   "pygments_lexer": "ipython3",
   "version": "3.9.9"
  }
 },
 "nbformat": 4,
 "nbformat_minor": 5
}
