{
 "cells": [
  {
   "cell_type": "code",
   "execution_count": 1,
   "id": "e9539a90",
   "metadata": {},
   "outputs": [],
   "source": [
    "#import packages\n",
    "import numpy as np\n",
    "import pandas as pd\n",
    "import gradio as gr\n",
    "import warnings\n",
    "warnings.filterwarnings('ignore')"
   ]
  },
  {
   "cell_type": "code",
   "execution_count": 2,
   "id": "5795f841",
   "metadata": {},
   "outputs": [
    {
     "data": {
      "text/html": [
       "<div>\n",
       "<style scoped>\n",
       "    .dataframe tbody tr th:only-of-type {\n",
       "        vertical-align: middle;\n",
       "    }\n",
       "\n",
       "    .dataframe tbody tr th {\n",
       "        vertical-align: top;\n",
       "    }\n",
       "\n",
       "    .dataframe thead th {\n",
       "        text-align: right;\n",
       "    }\n",
       "</style>\n",
       "<table border=\"1\" class=\"dataframe\">\n",
       "  <thead>\n",
       "    <tr style=\"text-align: right;\">\n",
       "      <th></th>\n",
       "      <th>Pregnancies</th>\n",
       "      <th>Glucose</th>\n",
       "      <th>BloodPressure</th>\n",
       "      <th>SkinThickness</th>\n",
       "      <th>Insulin</th>\n",
       "      <th>BMI</th>\n",
       "      <th>DiabetesPedigreeFunction</th>\n",
       "      <th>Age</th>\n",
       "      <th>Outcome</th>\n",
       "    </tr>\n",
       "  </thead>\n",
       "  <tbody>\n",
       "    <tr>\n",
       "      <th>0</th>\n",
       "      <td>6</td>\n",
       "      <td>148</td>\n",
       "      <td>72</td>\n",
       "      <td>35</td>\n",
       "      <td>0</td>\n",
       "      <td>33.6</td>\n",
       "      <td>0.627</td>\n",
       "      <td>50</td>\n",
       "      <td>1</td>\n",
       "    </tr>\n",
       "    <tr>\n",
       "      <th>1</th>\n",
       "      <td>1</td>\n",
       "      <td>85</td>\n",
       "      <td>66</td>\n",
       "      <td>29</td>\n",
       "      <td>0</td>\n",
       "      <td>26.6</td>\n",
       "      <td>0.351</td>\n",
       "      <td>31</td>\n",
       "      <td>0</td>\n",
       "    </tr>\n",
       "    <tr>\n",
       "      <th>2</th>\n",
       "      <td>8</td>\n",
       "      <td>183</td>\n",
       "      <td>64</td>\n",
       "      <td>0</td>\n",
       "      <td>0</td>\n",
       "      <td>23.3</td>\n",
       "      <td>0.672</td>\n",
       "      <td>32</td>\n",
       "      <td>1</td>\n",
       "    </tr>\n",
       "    <tr>\n",
       "      <th>3</th>\n",
       "      <td>1</td>\n",
       "      <td>89</td>\n",
       "      <td>66</td>\n",
       "      <td>23</td>\n",
       "      <td>94</td>\n",
       "      <td>28.1</td>\n",
       "      <td>0.167</td>\n",
       "      <td>21</td>\n",
       "      <td>0</td>\n",
       "    </tr>\n",
       "    <tr>\n",
       "      <th>4</th>\n",
       "      <td>0</td>\n",
       "      <td>137</td>\n",
       "      <td>40</td>\n",
       "      <td>35</td>\n",
       "      <td>168</td>\n",
       "      <td>43.1</td>\n",
       "      <td>2.288</td>\n",
       "      <td>33</td>\n",
       "      <td>1</td>\n",
       "    </tr>\n",
       "  </tbody>\n",
       "</table>\n",
       "</div>"
      ],
      "text/plain": [
       "   Pregnancies  Glucose  BloodPressure  SkinThickness  Insulin   BMI  \\\n",
       "0            6      148             72             35        0  33.6   \n",
       "1            1       85             66             29        0  26.6   \n",
       "2            8      183             64              0        0  23.3   \n",
       "3            1       89             66             23       94  28.1   \n",
       "4            0      137             40             35      168  43.1   \n",
       "\n",
       "   DiabetesPedigreeFunction  Age  Outcome  \n",
       "0                     0.627   50        1  \n",
       "1                     0.351   31        0  \n",
       "2                     0.672   32        1  \n",
       "3                     0.167   21        0  \n",
       "4                     2.288   33        1  "
      ]
     },
     "execution_count": 2,
     "metadata": {},
     "output_type": "execute_result"
    }
   ],
   "source": [
    "#get the data\n",
    "data = pd.read_csv('E:\\Downloads\\diabetes.csv')\n",
    "data.head()"
   ]
  },
  {
   "cell_type": "code",
   "execution_count": 3,
   "id": "0115d724",
   "metadata": {},
   "outputs": [
    {
     "name": "stdout",
     "output_type": "stream",
     "text": [
      "Index(['Pregnancies', 'Glucose', 'BloodPressure', 'SkinThickness', 'Insulin',\n",
      "       'BMI', 'DiabetesPedigreeFunction', 'Age', 'Outcome'],\n",
      "      dtype='object')\n"
     ]
    }
   ],
   "source": [
    "print(data.columns)"
   ]
  },
  {
   "cell_type": "code",
   "execution_count": 4,
   "id": "18d0cd7e",
   "metadata": {},
   "outputs": [],
   "source": [
    "x = data.drop(['Outcome'], axis=1)\n",
    "\n",
    "y = data['Outcome']"
   ]
  },
  {
   "cell_type": "code",
   "execution_count": 6,
   "id": "c987f5c7",
   "metadata": {},
   "outputs": [],
   "source": [
    "#split data\n",
    "from sklearn.model_selection import train_test_split\n",
    "\n",
    "x_train, x_test, y_train, y_test= train_test_split(x,y)"
   ]
  },
  {
   "cell_type": "code",
   "execution_count": 7,
   "id": "86f0f9fd",
   "metadata": {},
   "outputs": [],
   "source": [
    "#scale data\n",
    "from sklearn.preprocessing import StandardScaler\n",
    "scaler = StandardScaler()\n",
    "x_train_scaled = scaler.fit_transform(x_train)\n",
    "x_test_scaled = scaler.fit_transform(x_test)"
   ]
  },
  {
   "cell_type": "code",
   "execution_count": 8,
   "id": "a19b54ca",
   "metadata": {},
   "outputs": [
    {
     "name": "stdout",
     "output_type": "stream",
     "text": [
      "Model Accuracy on training set: 0.7916666666666666\n",
      "Model Accuracy on Test Set: 0.6666666666666666\n"
     ]
    }
   ],
   "source": [
    "#instatiate model\n",
    "from sklearn.neural_network import MLPClassifier\n",
    "model = MLPClassifier(max_iter=1000, alpha=1)\n",
    "model.fit(x_train, y_train)\n",
    "print(\"Model Accuracy on training set:\", model.score(x_train, y_train))\n",
    "print(\"Model Accuracy on Test Set:\", model.score(x_test, y_test))"
   ]
  },
  {
   "cell_type": "code",
   "execution_count": 9,
   "id": "03ea97fb",
   "metadata": {},
   "outputs": [
    {
     "name": "stdout",
     "output_type": "stream",
     "text": [
      "Index(['Pregnancies', 'Glucose', 'BloodPressure', 'SkinThickness', 'Insulin',\n",
      "       'BMI', 'DiabetesPedigreeFunction', 'Age', 'Outcome'],\n",
      "      dtype='object')\n"
     ]
    }
   ],
   "source": [
    "print(data.columns)"
   ]
  },
  {
   "cell_type": "code",
   "execution_count": 14,
   "id": "425ff188",
   "metadata": {},
   "outputs": [],
   "source": [
    "#create a function for gradio\n",
    "def diabetes(Pregnancies, Glucose, Blood_Pressure, SkinThickness, Insulin, BMI,Diabetes_Pedigree, Age):\n",
    "    x = np.array([Pregnancies,Glucose,Blood_Pressure,SkinThickness,Insulin,BMI,Diabetes_Pedigree,Age])\n",
    "    prediction = model.predict(x.reshape(1, -1))\n",
    "    # result = ' '\n",
    "    if prediction==1:\n",
    "        result='Diabetic'\n",
    "    elif prediction==0:\n",
    "        result='Non-Diabetic'\n",
    "    return result"
   ]
  },
  {
   "cell_type": "code",
   "execution_count": 15,
   "id": "cea8f31f",
   "metadata": {},
   "outputs": [
    {
     "ename": "ValueError",
     "evalue": "No such component or layout:  ",
     "output_type": "error",
     "traceback": [
      "\u001b[1;31m---------------------------------------------------------------------------\u001b[0m",
      "\u001b[1;31mValueError\u001b[0m                                Traceback (most recent call last)",
      "Cell \u001b[1;32mIn[15], line 7\u001b[0m\n\u001b[0;32m      1\u001b[0m outputs \u001b[39m=\u001b[39m gr\u001b[39m.\u001b[39moutputs\u001b[39m.\u001b[39mTextbox()\n\u001b[0;32m      2\u001b[0m \u001b[39m# result = ' '\u001b[39;00m\n\u001b[0;32m      3\u001b[0m \u001b[39m# if outputs==1:\u001b[39;00m\n\u001b[0;32m      4\u001b[0m \u001b[39m#     result='Diabetic'\u001b[39;00m\n\u001b[0;32m      5\u001b[0m \u001b[39m# elif outputs==0:\u001b[39;00m\n\u001b[0;32m      6\u001b[0m \u001b[39m#     result='Non-Diabetic'\u001b[39;00m\n\u001b[1;32m----> 7\u001b[0m app \u001b[39m=\u001b[39m gr\u001b[39m.\u001b[39;49mInterface(fn\u001b[39m=\u001b[39;49mdiabetes, inputs\u001b[39m=\u001b[39;49m[\u001b[39m'\u001b[39;49m\u001b[39mnumber\u001b[39;49m\u001b[39m'\u001b[39;49m,\u001b[39m'\u001b[39;49m\u001b[39mnumber\u001b[39;49m\u001b[39m'\u001b[39;49m,\u001b[39m'\u001b[39;49m\u001b[39mnumber\u001b[39;49m\u001b[39m'\u001b[39;49m,\u001b[39m'\u001b[39;49m\u001b[39mnumber\u001b[39;49m\u001b[39m'\u001b[39;49m,\u001b[39m'\u001b[39;49m\u001b[39mnumber\u001b[39;49m\u001b[39m'\u001b[39;49m,\u001b[39m'\u001b[39;49m\u001b[39mnumber\u001b[39;49m\u001b[39m'\u001b[39;49m,\u001b[39m'\u001b[39;49m\u001b[39mnumber\u001b[39;49m\u001b[39m'\u001b[39;49m,\u001b[39m'\u001b[39;49m\u001b[39mnumber\u001b[39;49m\u001b[39m'\u001b[39;49m], outputs\u001b[39m=\u001b[39;49mresult,description\u001b[39m=\u001b[39;49m\u001b[39m\"\u001b[39;49m\u001b[39mThis is a diabetes model\u001b[39;49m\u001b[39m\"\u001b[39;49m)\n\u001b[0;32m      8\u001b[0m app\u001b[39m.\u001b[39mlaunch(share\u001b[39m=\u001b[39m\u001b[39mTrue\u001b[39;00m)\n",
      "File \u001b[1;32m~\\AppData\\Roaming\\Python\\Python311\\site-packages\\gradio\\interface.py:250\u001b[0m, in \u001b[0;36mInterface.__init__\u001b[1;34m(self, fn, inputs, outputs, examples, cache_examples, examples_per_page, live, interpretation, num_shap, title, description, article, thumbnail, theme, css, allow_flagging, flagging_options, flagging_dir, flagging_callback, analytics_enabled, batch, max_batch_size, _api_mode, **kwargs)\u001b[0m\n\u001b[0;32m    245\u001b[0m     \u001b[39mself\u001b[39m\u001b[39m.\u001b[39mcache_examples \u001b[39m=\u001b[39m \u001b[39mFalse\u001b[39;00m\n\u001b[0;32m    247\u001b[0m \u001b[39mself\u001b[39m\u001b[39m.\u001b[39minput_components \u001b[39m=\u001b[39m [\n\u001b[0;32m    248\u001b[0m     get_component_instance(i, render\u001b[39m=\u001b[39m\u001b[39mFalse\u001b[39;00m) \u001b[39mfor\u001b[39;00m i \u001b[39min\u001b[39;00m inputs\n\u001b[0;32m    249\u001b[0m ]\n\u001b[1;32m--> 250\u001b[0m \u001b[39mself\u001b[39m\u001b[39m.\u001b[39moutput_components \u001b[39m=\u001b[39m [\n\u001b[0;32m    251\u001b[0m     get_component_instance(o, render\u001b[39m=\u001b[39;49m\u001b[39mFalse\u001b[39;49;00m) \u001b[39mfor\u001b[39;49;00m o \u001b[39min\u001b[39;49;00m outputs\n\u001b[0;32m    252\u001b[0m ]\n\u001b[0;32m    254\u001b[0m \u001b[39mfor\u001b[39;00m component \u001b[39min\u001b[39;00m \u001b[39mself\u001b[39m\u001b[39m.\u001b[39minput_components \u001b[39m+\u001b[39m \u001b[39mself\u001b[39m\u001b[39m.\u001b[39moutput_components:\n\u001b[0;32m    255\u001b[0m     \u001b[39mif\u001b[39;00m \u001b[39mnot\u001b[39;00m (\u001b[39misinstance\u001b[39m(component, IOComponent)):\n",
      "File \u001b[1;32m~\\AppData\\Roaming\\Python\\Python311\\site-packages\\gradio\\interface.py:251\u001b[0m, in \u001b[0;36m<listcomp>\u001b[1;34m(.0)\u001b[0m\n\u001b[0;32m    245\u001b[0m     \u001b[39mself\u001b[39m\u001b[39m.\u001b[39mcache_examples \u001b[39m=\u001b[39m \u001b[39mFalse\u001b[39;00m\n\u001b[0;32m    247\u001b[0m \u001b[39mself\u001b[39m\u001b[39m.\u001b[39minput_components \u001b[39m=\u001b[39m [\n\u001b[0;32m    248\u001b[0m     get_component_instance(i, render\u001b[39m=\u001b[39m\u001b[39mFalse\u001b[39;00m) \u001b[39mfor\u001b[39;00m i \u001b[39min\u001b[39;00m inputs\n\u001b[0;32m    249\u001b[0m ]\n\u001b[0;32m    250\u001b[0m \u001b[39mself\u001b[39m\u001b[39m.\u001b[39moutput_components \u001b[39m=\u001b[39m [\n\u001b[1;32m--> 251\u001b[0m     get_component_instance(o, render\u001b[39m=\u001b[39;49m\u001b[39mFalse\u001b[39;49;00m) \u001b[39mfor\u001b[39;00m o \u001b[39min\u001b[39;00m outputs\n\u001b[0;32m    252\u001b[0m ]\n\u001b[0;32m    254\u001b[0m \u001b[39mfor\u001b[39;00m component \u001b[39min\u001b[39;00m \u001b[39mself\u001b[39m\u001b[39m.\u001b[39minput_components \u001b[39m+\u001b[39m \u001b[39mself\u001b[39m\u001b[39m.\u001b[39moutput_components:\n\u001b[0;32m    255\u001b[0m     \u001b[39mif\u001b[39;00m \u001b[39mnot\u001b[39;00m (\u001b[39misinstance\u001b[39m(component, IOComponent)):\n",
      "File \u001b[1;32m~\\AppData\\Roaming\\Python\\Python311\\site-packages\\gradio\\components.py:5449\u001b[0m, in \u001b[0;36mget_component_instance\u001b[1;34m(comp, render)\u001b[0m\n\u001b[0;32m   5447\u001b[0m \u001b[39mdef\u001b[39;00m \u001b[39mget_component_instance\u001b[39m(comp: \u001b[39mstr\u001b[39m \u001b[39m|\u001b[39m \u001b[39mdict\u001b[39m \u001b[39m|\u001b[39m Component, render\u001b[39m=\u001b[39m\u001b[39mTrue\u001b[39;00m) \u001b[39m-\u001b[39m\u001b[39m>\u001b[39m Component:\n\u001b[0;32m   5448\u001b[0m     \u001b[39mif\u001b[39;00m \u001b[39misinstance\u001b[39m(comp, \u001b[39mstr\u001b[39m):\n\u001b[1;32m-> 5449\u001b[0m         component_obj \u001b[39m=\u001b[39m component(comp)\n\u001b[0;32m   5450\u001b[0m         \u001b[39mif\u001b[39;00m \u001b[39mnot\u001b[39;00m (render):\n\u001b[0;32m   5451\u001b[0m             component_obj\u001b[39m.\u001b[39munrender()\n",
      "File \u001b[1;32m~\\AppData\\Roaming\\Python\\Python311\\site-packages\\gradio\\components.py:5441\u001b[0m, in \u001b[0;36mcomponent\u001b[1;34m(cls_name)\u001b[0m\n\u001b[0;32m   5440\u001b[0m \u001b[39mdef\u001b[39;00m \u001b[39mcomponent\u001b[39m(cls_name: \u001b[39mstr\u001b[39m) \u001b[39m-\u001b[39m\u001b[39m>\u001b[39m Component:\n\u001b[1;32m-> 5441\u001b[0m     obj \u001b[39m=\u001b[39m utils\u001b[39m.\u001b[39;49mcomponent_or_layout_class(cls_name)()\n\u001b[0;32m   5442\u001b[0m     \u001b[39mif\u001b[39;00m \u001b[39misinstance\u001b[39m(obj, BlockContext):\n\u001b[0;32m   5443\u001b[0m         \u001b[39mraise\u001b[39;00m \u001b[39mValueError\u001b[39;00m(\u001b[39mf\u001b[39m\u001b[39m\"\u001b[39m\u001b[39mInvalid component: \u001b[39m\u001b[39m{\u001b[39;00mobj\u001b[39m.\u001b[39m\u001b[39m__class__\u001b[39m\u001b[39m}\u001b[39;00m\u001b[39m\"\u001b[39m)\n",
      "File \u001b[1;32m~\\AppData\\Roaming\\Python\\Python311\\site-packages\\gradio\\utils.py:394\u001b[0m, in \u001b[0;36mcomponent_or_layout_class\u001b[1;34m(cls_name)\u001b[0m\n\u001b[0;32m    389\u001b[0m     \u001b[39mif\u001b[39;00m name\u001b[39m.\u001b[39mlower() \u001b[39m==\u001b[39m cls_name\u001b[39m.\u001b[39mreplace(\u001b[39m\"\u001b[39m\u001b[39m_\u001b[39m\u001b[39m\"\u001b[39m, \u001b[39m\"\u001b[39m\u001b[39m\"\u001b[39m) \u001b[39mand\u001b[39;00m (\n\u001b[0;32m    390\u001b[0m         \u001b[39missubclass\u001b[39m(\u001b[39mcls\u001b[39m, gradio\u001b[39m.\u001b[39mcomponents\u001b[39m.\u001b[39mComponent)\n\u001b[0;32m    391\u001b[0m         \u001b[39mor\u001b[39;00m \u001b[39missubclass\u001b[39m(\u001b[39mcls\u001b[39m, gradio\u001b[39m.\u001b[39mblocks\u001b[39m.\u001b[39mBlockContext)\n\u001b[0;32m    392\u001b[0m     ):\n\u001b[0;32m    393\u001b[0m         \u001b[39mreturn\u001b[39;00m \u001b[39mcls\u001b[39m\n\u001b[1;32m--> 394\u001b[0m \u001b[39mraise\u001b[39;00m \u001b[39mValueError\u001b[39;00m(\u001b[39mf\u001b[39m\u001b[39m\"\u001b[39m\u001b[39mNo such component or layout: \u001b[39m\u001b[39m{\u001b[39;00mcls_name\u001b[39m}\u001b[39;00m\u001b[39m\"\u001b[39m)\n",
      "\u001b[1;31mValueError\u001b[0m: No such component or layout:  "
     ]
    }
   ],
   "source": [
    "outputs = gr.outputs.Textbox()\n",
    "# result = ' '\n",
    "# if outputs==1:\n",
    "#     result='Diabetic'\n",
    "# elif outputs==0:\n",
    "#     result='Non-Diabetic'\n",
    "app = gr.Interface(fn=diabetes, inputs=['number','number','number','number','number','number','number','number'], outputs=outputs,description=\"This is a diabetes model\")\n",
    "app.launch(share=True)"
   ]
  },
  {
   "cell_type": "code",
   "execution_count": null,
   "id": "245060b8",
   "metadata": {},
   "outputs": [],
   "source": []
  }
 ],
 "metadata": {
  "kernelspec": {
   "display_name": "Python 3 (ipykernel)",
   "language": "python",
   "name": "python3"
  },
  "language_info": {
   "codemirror_mode": {
    "name": "ipython",
    "version": 3
   },
   "file_extension": ".py",
   "mimetype": "text/x-python",
   "name": "python",
   "nbconvert_exporter": "python",
   "pygments_lexer": "ipython3",
   "version": "3.9.13"
  },
  "vscode": {
   "interpreter": {
    "hash": "c261aea317cc0286b3b3261fbba9abdec21eaa57589985bb7a274bf54d6cc0a7"
   }
  }
 },
 "nbformat": 4,
 "nbformat_minor": 5
}
